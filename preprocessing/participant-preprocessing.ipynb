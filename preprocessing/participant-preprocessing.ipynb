{
 "cells": [
  {
   "cell_type": "code",
   "execution_count": 27,
   "id": "82016407-f782-46f9-ac4b-dd91b72e5164",
   "metadata": {},
   "outputs": [],
   "source": [
    "import pandas as pd\n",
    "from pathlib import Path"
   ]
  },
  {
   "cell_type": "markdown",
   "id": "7b25ac3a-3458-4fa0-8107-03f2699f39ee",
   "metadata": {},
   "source": [
    "This script will add a column for all classmates of the students. Classmates are placed in random order as a comma separated string. "
   ]
  },
  {
   "cell_type": "code",
   "execution_count": 28,
   "id": "98ac6e90-69e3-4db9-95fc-ec50f940359e",
   "metadata": {},
   "outputs": [],
   "source": [
    "participant_data_path = \"./example_data\"\n",
    "participant_input_filename = \"test-participant-tokens.csv\""
   ]
  },
  {
   "cell_type": "code",
   "execution_count": 29,
   "id": "713223a4-ae16-46bb-bf44-14f08742a4e1",
   "metadata": {},
   "outputs": [],
   "source": [
    "column_dict = {\n",
    "    \"Geen toestemming\": \"attribute_2 <Permission>\",\n",
    "    \"Klas\": \"attribute_3 <Klas>\",\n",
    "    \"Stamnr\": \"token\",\n",
    "}\n",
    "classmates_column_name = \"attribute_1 <Classmates>\"\n"
   ]
  },
  {
   "cell_type": "code",
   "execution_count": 30,
   "id": "cf05f81a-e6dd-450f-beef-cc89b90dcf8e",
   "metadata": {},
   "outputs": [],
   "source": [
    "participant_data_path = Path(participant_data_path)\n",
    "participant_input_filename = participant_data_path / participant_input_filename\n",
    "participants_df = pd.read_csv(participant_input_filename)"
   ]
  },
  {
   "cell_type": "code",
   "execution_count": 31,
   "id": "ba8aa51d-aac7-4841-9cca-35938b1748b6",
   "metadata": {},
   "outputs": [],
   "source": [
    "participants_df = participants_df.rename(columns=column_dict)"
   ]
  },
  {
   "cell_type": "code",
   "execution_count": 32,
   "id": "2546fa76-4210-48b9-a552-fa6c684ab526",
   "metadata": {},
   "outputs": [],
   "source": [
    "for i, participant in participants_df.iterrows():\n",
    "    participants_df.at[i,classmates_column_name] = participants_df.drop(i).Roepnaam.sample(frac=1).str.cat(sep=', ')"
   ]
  },
  {
   "cell_type": "code",
   "execution_count": 33,
   "id": "90175539-3f98-4ada-b46d-5034c2643785",
   "metadata": {},
   "outputs": [],
   "source": [
    "participants_df[\"language\"] = \"nl\"\n"
   ]
  },
  {
   "cell_type": "code",
   "execution_count": 34,
   "id": "c2a994c2-00fb-4f6f-85d9-e408a57d1804",
   "metadata": {},
   "outputs": [
    {
     "data": {
      "text/html": [
       "<div>\n",
       "<style scoped>\n",
       "    .dataframe tbody tr th:only-of-type {\n",
       "        vertical-align: middle;\n",
       "    }\n",
       "\n",
       "    .dataframe tbody tr th {\n",
       "        vertical-align: top;\n",
       "    }\n",
       "\n",
       "    .dataframe thead th {\n",
       "        text-align: right;\n",
       "    }\n",
       "</style>\n",
       "<table border=\"1\" class=\"dataframe\">\n",
       "  <thead>\n",
       "    <tr style=\"text-align: right;\">\n",
       "      <th></th>\n",
       "      <th>Unnamed: 0</th>\n",
       "      <th>Grade</th>\n",
       "      <th>attribute_3 &lt;Klas&gt;</th>\n",
       "      <th>Roepnaam</th>\n",
       "      <th>Tussenv</th>\n",
       "      <th>Achternaam</th>\n",
       "      <th>Geboortedatum</th>\n",
       "      <th>Geslacht</th>\n",
       "      <th>token</th>\n",
       "      <th>Mentor</th>\n",
       "      <th>attribute_2 &lt;Permission&gt;</th>\n",
       "      <th>Persoonsgegevens</th>\n",
       "      <th>attribute_1 &lt;Classmates&gt;</th>\n",
       "      <th>language</th>\n",
       "    </tr>\n",
       "  </thead>\n",
       "  <tbody>\n",
       "    <tr>\n",
       "      <th>0</th>\n",
       "      <td>NaN</td>\n",
       "      <td>1</td>\n",
       "      <td>A1g1</td>\n",
       "      <td>Jaro</td>\n",
       "      <td>NaN</td>\n",
       "      <td>NaN</td>\n",
       "      <td>NaN</td>\n",
       "      <td>NaN</td>\n",
       "      <td>1</td>\n",
       "      <td>Giovanni</td>\n",
       "      <td>no</td>\n",
       "      <td>NaN</td>\n",
       "      <td>Hubert, Toon, John, Sanyogita, Loes</td>\n",
       "      <td>nl</td>\n",
       "    </tr>\n",
       "    <tr>\n",
       "      <th>1</th>\n",
       "      <td>NaN</td>\n",
       "      <td>1</td>\n",
       "      <td>A1g1</td>\n",
       "      <td>Loes</td>\n",
       "      <td>NaN</td>\n",
       "      <td>NaN</td>\n",
       "      <td>NaN</td>\n",
       "      <td>NaN</td>\n",
       "      <td>2</td>\n",
       "      <td>Giovanni</td>\n",
       "      <td>no</td>\n",
       "      <td>NaN</td>\n",
       "      <td>John, Sanyogita, Jaro, Hubert, Toon</td>\n",
       "      <td>nl</td>\n",
       "    </tr>\n",
       "    <tr>\n",
       "      <th>2</th>\n",
       "      <td>NaN</td>\n",
       "      <td>1</td>\n",
       "      <td>A1g1</td>\n",
       "      <td>Toon</td>\n",
       "      <td>NaN</td>\n",
       "      <td>NaN</td>\n",
       "      <td>NaN</td>\n",
       "      <td>NaN</td>\n",
       "      <td>3</td>\n",
       "      <td>Giovanni</td>\n",
       "      <td>NaN</td>\n",
       "      <td>NaN</td>\n",
       "      <td>Hubert, Jaro, John, Loes, Sanyogita</td>\n",
       "      <td>nl</td>\n",
       "    </tr>\n",
       "    <tr>\n",
       "      <th>3</th>\n",
       "      <td>NaN</td>\n",
       "      <td>1</td>\n",
       "      <td>A1g2</td>\n",
       "      <td>Sanyogita</td>\n",
       "      <td>NaN</td>\n",
       "      <td>NaN</td>\n",
       "      <td>NaN</td>\n",
       "      <td>NaN</td>\n",
       "      <td>4</td>\n",
       "      <td>Giovanni</td>\n",
       "      <td>NaN</td>\n",
       "      <td>NaN</td>\n",
       "      <td>Loes, Hubert, John, Toon, Jaro</td>\n",
       "      <td>nl</td>\n",
       "    </tr>\n",
       "    <tr>\n",
       "      <th>4</th>\n",
       "      <td>NaN</td>\n",
       "      <td>1</td>\n",
       "      <td>A1g2</td>\n",
       "      <td>John</td>\n",
       "      <td>NaN</td>\n",
       "      <td>NaN</td>\n",
       "      <td>NaN</td>\n",
       "      <td>NaN</td>\n",
       "      <td>5</td>\n",
       "      <td>Wilbert</td>\n",
       "      <td>NaN</td>\n",
       "      <td>NaN</td>\n",
       "      <td>Toon, Jaro, Loes, Hubert, Sanyogita</td>\n",
       "      <td>nl</td>\n",
       "    </tr>\n",
       "    <tr>\n",
       "      <th>5</th>\n",
       "      <td>NaN</td>\n",
       "      <td>1</td>\n",
       "      <td>A1g2</td>\n",
       "      <td>Hubert</td>\n",
       "      <td>NaN</td>\n",
       "      <td>NaN</td>\n",
       "      <td>NaN</td>\n",
       "      <td>NaN</td>\n",
       "      <td>6</td>\n",
       "      <td>Wilbert</td>\n",
       "      <td>NaN</td>\n",
       "      <td>NaN</td>\n",
       "      <td>Jaro, John, Sanyogita, Loes, Toon</td>\n",
       "      <td>nl</td>\n",
       "    </tr>\n",
       "  </tbody>\n",
       "</table>\n",
       "</div>"
      ],
      "text/plain": [
       "   Unnamed: 0  Grade attribute_3 <Klas>   Roepnaam  Tussenv  Achternaam  \\\n",
       "0         NaN      1               A1g1       Jaro      NaN         NaN   \n",
       "1         NaN      1               A1g1       Loes      NaN         NaN   \n",
       "2         NaN      1               A1g1       Toon      NaN         NaN   \n",
       "3         NaN      1               A1g2  Sanyogita      NaN         NaN   \n",
       "4         NaN      1               A1g2       John      NaN         NaN   \n",
       "5         NaN      1               A1g2     Hubert      NaN         NaN   \n",
       "\n",
       "   Geboortedatum  Geslacht  token    Mentor attribute_2 <Permission>  \\\n",
       "0            NaN       NaN      1  Giovanni                       no   \n",
       "1            NaN       NaN      2  Giovanni                       no   \n",
       "2            NaN       NaN      3  Giovanni                      NaN   \n",
       "3            NaN       NaN      4  Giovanni                      NaN   \n",
       "4            NaN       NaN      5   Wilbert                      NaN   \n",
       "5            NaN       NaN      6   Wilbert                      NaN   \n",
       "\n",
       "   Persoonsgegevens             attribute_1 <Classmates> language  \n",
       "0               NaN  Hubert, Toon, John, Sanyogita, Loes       nl  \n",
       "1               NaN  John, Sanyogita, Jaro, Hubert, Toon       nl  \n",
       "2               NaN  Hubert, Jaro, John, Loes, Sanyogita       nl  \n",
       "3               NaN       Loes, Hubert, John, Toon, Jaro       nl  \n",
       "4               NaN  Toon, Jaro, Loes, Hubert, Sanyogita       nl  \n",
       "5               NaN    Jaro, John, Sanyogita, Loes, Toon       nl  "
      ]
     },
     "execution_count": 34,
     "metadata": {},
     "output_type": "execute_result"
    }
   ],
   "source": [
    "participants_df"
   ]
  },
  {
   "cell_type": "code",
   "execution_count": 35,
   "id": "9ce5cac2-ba45-4ac3-909a-97c38e4119d9",
   "metadata": {},
   "outputs": [
    {
     "name": "stdout",
     "output_type": "stream",
     "text": [
      "/home/jaro/NLeSC/QANS/qans-example-data/test-participant-tokens_preprocessed.csv\n"
     ]
    }
   ],
   "source": [
    "participant_output_filename = participant_input_filename.with_stem(participant_input_filename.stem + \"_preprocessed\")\n",
    "print(participant_output_filename)\n",
    "participants_df.to_csv(participant_output_filename)"
   ]
  },
  {
   "cell_type": "code",
   "execution_count": null,
   "id": "e7a5c494-8473-4cde-9160-9b13f91e65c9",
   "metadata": {},
   "outputs": [],
   "source": []
  }
 ],
 "metadata": {
  "kernelspec": {
   "display_name": "Python 3 (ipykernel)",
   "language": "python",
   "name": "python3"
  },
  "language_info": {
   "codemirror_mode": {
    "name": "ipython",
    "version": 3
   },
   "file_extension": ".py",
   "mimetype": "text/x-python",
   "name": "python",
   "nbconvert_exporter": "python",
   "pygments_lexer": "ipython3",
   "version": "3.12.3"
  }
 },
 "nbformat": 4,
 "nbformat_minor": 5
}
