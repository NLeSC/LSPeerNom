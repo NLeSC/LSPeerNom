{
 "cells": [
  {
   "cell_type": "code",
   "execution_count": 28,
   "id": "82016407-f782-46f9-ac4b-dd91b72e5164",
   "metadata": {},
   "outputs": [],
   "source": [
    "import pandas as pd\n",
    "from pathlib import Path"
   ]
  },
  {
   "cell_type": "markdown",
   "id": "7b25ac3a-3458-4fa0-8107-03f2699f39ee",
   "metadata": {},
   "source": [
    "This script will add a column for all classmates of the students. Classmates are placed in random order as a comma separated string. "
   ]
  },
  {
   "cell_type": "code",
   "execution_count": 29,
   "id": "98ac6e90-69e3-4db9-95fc-ec50f940359e",
   "metadata": {},
   "outputs": [],
   "source": [
    "participant_data_path = \"./example_data\"\n",
    "participant_input_filename = \"test_participantList.csv\"\n",
    "\n",
    "random_seed=28102024"
   ]
  },
  {
   "cell_type": "code",
   "execution_count": 30,
   "id": "713223a4-ae16-46bb-bf44-14f08742a4e1",
   "metadata": {},
   "outputs": [],
   "source": [
    "column_dict = {\n",
    "    \"Personal Data\": \"attribute_2 <PersonalData>\",\n",
    "    \"ClassId\": \"attribute_3 <ClassID>\",\n",
    "    \"Stamnr\": \"token\",\n",
    "    \"Name\":\"firstname\"\n",
    "}\n",
    "classmates_column_name = \"attribute_1 <Classmates>\"\n",
    "pupils_column_name = \"attribute_1 <Pupils>\""
   ]
  },
  {
   "cell_type": "code",
   "execution_count": 31,
   "id": "cf05f81a-e6dd-450f-beef-cc89b90dcf8e",
   "metadata": {},
   "outputs": [],
   "source": [
    "participant_data_path = Path(participant_data_path)\n",
    "participant_input_file = participant_data_path / participant_input_filename\n",
    "school_df = pd.read_csv(participant_input_file)\n",
    "school_df = school_df.loc[school_df[\"Consent\"] != \"No\"].drop([\"School\", \"Class\", \"Gender\", \"Age\", \"Consent\"], axis=1)"
   ]
  },
  {
   "cell_type": "markdown",
   "id": "cc1b8e4f-3ec9-408d-a811-9d3be333ccfb",
   "metadata": {},
   "source": [
    "## Students file preparation"
   ]
  },
  {
   "cell_type": "code",
   "execution_count": 32,
   "id": "ba8aa51d-aac7-4841-9cca-35938b1748b6",
   "metadata": {},
   "outputs": [],
   "source": [
    "students_df = school_df.rename(columns=column_dict).drop(\"Mentor\", axis=1)"
   ]
  },
  {
   "cell_type": "code",
   "execution_count": 33,
   "id": "2546fa76-4210-48b9-a552-fa6c684ab526",
   "metadata": {},
   "outputs": [],
   "source": [
    "for i, student in students_df.iterrows():\n",
    "    students_df.at[i,classmates_column_name] = students_df \\\n",
    "        .drop(i) \\\n",
    "        .loc[students_df[\"attribute_3 <ClassID>\"] == student[\"attribute_3 <ClassID>\"]] \\\n",
    "        .firstname \\\n",
    "        .sample(frac=1, random_state=random_seed).str.cat(sep=', ')"
   ]
  },
  {
   "cell_type": "code",
   "execution_count": 34,
   "id": "90175539-3f98-4ada-b46d-5034c2643785",
   "metadata": {},
   "outputs": [],
   "source": [
    "students_df[\"language\"] = \"nl\"\n",
    "students_df[\"attribute_2 <PersonalData>\"] = students_df[\"attribute_2 <PersonalData>\"].fillna(\"true\").replace(\"No\", \"false\")"
   ]
  },
  {
   "cell_type": "code",
   "execution_count": 35,
   "id": "c2a994c2-00fb-4f6f-85d9-e408a57d1804",
   "metadata": {},
   "outputs": [
    {
     "data": {
      "text/html": [
       "<div>\n",
       "<style scoped>\n",
       "    .dataframe tbody tr th:only-of-type {\n",
       "        vertical-align: middle;\n",
       "    }\n",
       "\n",
       "    .dataframe tbody tr th {\n",
       "        vertical-align: top;\n",
       "    }\n",
       "\n",
       "    .dataframe thead th {\n",
       "        text-align: right;\n",
       "    }\n",
       "</style>\n",
       "<table border=\"1\" class=\"dataframe\">\n",
       "  <thead>\n",
       "    <tr style=\"text-align: right;\">\n",
       "      <th></th>\n",
       "      <th>Grade</th>\n",
       "      <th>attribute_3 &lt;ClassID&gt;</th>\n",
       "      <th>Nr</th>\n",
       "      <th>firstname</th>\n",
       "      <th>token</th>\n",
       "      <th>LongId</th>\n",
       "      <th>attribute_2 &lt;PersonalData&gt;</th>\n",
       "      <th>attribute_1 &lt;Classmates&gt;</th>\n",
       "      <th>language</th>\n",
       "    </tr>\n",
       "  </thead>\n",
       "  <tbody>\n",
       "    <tr>\n",
       "      <th>0</th>\n",
       "      <td>1</td>\n",
       "      <td>1</td>\n",
       "      <td>1</td>\n",
       "      <td>Harold</td>\n",
       "      <td>123451</td>\n",
       "      <td>999990001</td>\n",
       "      <td>true</td>\n",
       "      <td>Fatima</td>\n",
       "      <td>nl</td>\n",
       "    </tr>\n",
       "    <tr>\n",
       "      <th>2</th>\n",
       "      <td>1</td>\n",
       "      <td>1</td>\n",
       "      <td>3</td>\n",
       "      <td>Fatima</td>\n",
       "      <td>123453</td>\n",
       "      <td>999990003</td>\n",
       "      <td>true</td>\n",
       "      <td>Harold</td>\n",
       "      <td>nl</td>\n",
       "    </tr>\n",
       "    <tr>\n",
       "      <th>3</th>\n",
       "      <td>2</td>\n",
       "      <td>2</td>\n",
       "      <td>1</td>\n",
       "      <td>Charissa</td>\n",
       "      <td>123454</td>\n",
       "      <td>999990004</td>\n",
       "      <td>false</td>\n",
       "      <td>Abdul, Derek, Dwayne</td>\n",
       "      <td>nl</td>\n",
       "    </tr>\n",
       "    <tr>\n",
       "      <th>4</th>\n",
       "      <td>2</td>\n",
       "      <td>2</td>\n",
       "      <td>2</td>\n",
       "      <td>Dwayne</td>\n",
       "      <td>123455</td>\n",
       "      <td>999990005</td>\n",
       "      <td>false</td>\n",
       "      <td>Abdul, Derek, Charissa</td>\n",
       "      <td>nl</td>\n",
       "    </tr>\n",
       "    <tr>\n",
       "      <th>5</th>\n",
       "      <td>2</td>\n",
       "      <td>2</td>\n",
       "      <td>3</td>\n",
       "      <td>Abdul</td>\n",
       "      <td>123456</td>\n",
       "      <td>999990006</td>\n",
       "      <td>true</td>\n",
       "      <td>Dwayne, Derek, Charissa</td>\n",
       "      <td>nl</td>\n",
       "    </tr>\n",
       "    <tr>\n",
       "      <th>6</th>\n",
       "      <td>2</td>\n",
       "      <td>2</td>\n",
       "      <td>4</td>\n",
       "      <td>Derek</td>\n",
       "      <td>123457</td>\n",
       "      <td>999990007</td>\n",
       "      <td>true</td>\n",
       "      <td>Dwayne, Abdul, Charissa</td>\n",
       "      <td>nl</td>\n",
       "    </tr>\n",
       "  </tbody>\n",
       "</table>\n",
       "</div>"
      ],
      "text/plain": [
       "   Grade  attribute_3 <ClassID>  Nr firstname   token     LongId  \\\n",
       "0      1                      1   1    Harold  123451  999990001   \n",
       "2      1                      1   3    Fatima  123453  999990003   \n",
       "3      2                      2   1  Charissa  123454  999990004   \n",
       "4      2                      2   2    Dwayne  123455  999990005   \n",
       "5      2                      2   3     Abdul  123456  999990006   \n",
       "6      2                      2   4     Derek  123457  999990007   \n",
       "\n",
       "  attribute_2 <PersonalData> attribute_1 <Classmates> language  \n",
       "0                       true                   Fatima       nl  \n",
       "2                       true                   Harold       nl  \n",
       "3                      false     Abdul, Derek, Dwayne       nl  \n",
       "4                      false   Abdul, Derek, Charissa       nl  \n",
       "5                       true  Dwayne, Derek, Charissa       nl  \n",
       "6                       true  Dwayne, Abdul, Charissa       nl  "
      ]
     },
     "execution_count": 35,
     "metadata": {},
     "output_type": "execute_result"
    }
   ],
   "source": [
    "students_df"
   ]
  },
  {
   "cell_type": "code",
   "execution_count": 36,
   "id": "9ce5cac2-ba45-4ac3-909a-97c38e4119d9",
   "metadata": {},
   "outputs": [
    {
     "name": "stdout",
     "output_type": "stream",
     "text": [
      "example_data/test_participantList_LimeSurveyStudents.csv\n"
     ]
    }
   ],
   "source": [
    "students_output_file = participant_input_file.with_stem(participant_input_file.stem + \"_LimeSurveyStudents\")\n",
    "print(students_output_file)\n",
    "students_df.to_csv(students_output_file)"
   ]
  },
  {
   "cell_type": "markdown",
   "id": "cd5cfedd-a0f6-4337-ab56-54dfb4f72926",
   "metadata": {},
   "source": [
    "## Mentors file preparation"
   ]
  },
  {
   "cell_type": "code",
   "execution_count": 37,
   "id": "e75a58c3-53e8-4e6f-b596-0c1d02f5f153",
   "metadata": {},
   "outputs": [],
   "source": [
    "mentor_list = [j for k in [i.split('/') for i in school_df[\"Mentor\"].unique()] for j in k]\n",
    "mentors_df = pd.DataFrame({\"firstname\":mentor_list})\n",
    "for i, mentor in mentors_df.iterrows():\n",
    "    mentors_df.at[i,pupils_column_name] = students_df[school_df[\"Mentor\"].str.contains(mentor[\"firstname\"])] \\\n",
    "        .firstname \\\n",
    "        .sample(frac=1).str.cat(sep=', ')"
   ]
  },
  {
   "cell_type": "code",
   "execution_count": 38,
   "id": "d8fb1c5f-4ca6-4b18-bcde-7ae0c9ed29f0",
   "metadata": {},
   "outputs": [
    {
     "data": {
      "text/html": [
       "<div>\n",
       "<style scoped>\n",
       "    .dataframe tbody tr th:only-of-type {\n",
       "        vertical-align: middle;\n",
       "    }\n",
       "\n",
       "    .dataframe tbody tr th {\n",
       "        vertical-align: top;\n",
       "    }\n",
       "\n",
       "    .dataframe thead th {\n",
       "        text-align: right;\n",
       "    }\n",
       "</style>\n",
       "<table border=\"1\" class=\"dataframe\">\n",
       "  <thead>\n",
       "    <tr style=\"text-align: right;\">\n",
       "      <th></th>\n",
       "      <th>firstname</th>\n",
       "      <th>attribute_1 &lt;Pupils&gt;</th>\n",
       "      <th>language</th>\n",
       "    </tr>\n",
       "  </thead>\n",
       "  <tbody>\n",
       "    <tr>\n",
       "      <th>0</th>\n",
       "      <td>Mister Something</td>\n",
       "      <td>Fatima, Harold</td>\n",
       "      <td>nl</td>\n",
       "    </tr>\n",
       "    <tr>\n",
       "      <th>1</th>\n",
       "      <td>Mrs Else</td>\n",
       "      <td>Harold, Fatima</td>\n",
       "      <td>nl</td>\n",
       "    </tr>\n",
       "    <tr>\n",
       "      <th>2</th>\n",
       "      <td>Mister This</td>\n",
       "      <td>Derek, Abdul, Charissa, Dwayne</td>\n",
       "      <td>nl</td>\n",
       "    </tr>\n",
       "    <tr>\n",
       "      <th>3</th>\n",
       "      <td>Mrs That</td>\n",
       "      <td>Dwayne, Abdul, Charissa, Derek</td>\n",
       "      <td>nl</td>\n",
       "    </tr>\n",
       "  </tbody>\n",
       "</table>\n",
       "</div>"
      ],
      "text/plain": [
       "          firstname            attribute_1 <Pupils> language\n",
       "0  Mister Something                  Fatima, Harold       nl\n",
       "1          Mrs Else                  Harold, Fatima       nl\n",
       "2       Mister This  Derek, Abdul, Charissa, Dwayne       nl\n",
       "3          Mrs That  Dwayne, Abdul, Charissa, Derek       nl"
      ]
     },
     "execution_count": 38,
     "metadata": {},
     "output_type": "execute_result"
    }
   ],
   "source": [
    "mentors_df[\"language\"] = \"nl\"\n",
    "mentors_df"
   ]
  },
  {
   "cell_type": "code",
   "execution_count": 39,
   "id": "44109eb3-f908-4dd0-825f-3d1b5b930dc4",
   "metadata": {},
   "outputs": [
    {
     "name": "stdout",
     "output_type": "stream",
     "text": [
      "example_data/test_participantList_LimeSurveyMentors.csv\n"
     ]
    }
   ],
   "source": [
    "mentors_output_file = participant_input_file.with_stem(participant_input_file.stem + \"_LimeSurveyMentors\")\n",
    "print(mentors_output_file)\n",
    "mentors_df.to_csv(mentors_output_file)"
   ]
  }
 ],
 "metadata": {
  "kernelspec": {
   "display_name": "Python 3 (ipykernel)",
   "language": "python",
   "name": "python3"
  },
  "language_info": {
   "codemirror_mode": {
    "name": "ipython",
    "version": 3
   },
   "file_extension": ".py",
   "mimetype": "text/x-python",
   "name": "python",
   "nbconvert_exporter": "python",
   "pygments_lexer": "ipython3",
   "version": "3.12.3"
  }
 },
 "nbformat": 4,
 "nbformat_minor": 5
}
